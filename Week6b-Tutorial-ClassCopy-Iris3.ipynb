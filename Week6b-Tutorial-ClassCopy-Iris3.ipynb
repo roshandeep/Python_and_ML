{
 "cells": [
  {
   "cell_type": "code",
   "execution_count": 1,
   "metadata": {},
   "outputs": [],
   "source": [
    "#Load Libraries\n",
    "import pandas as pd\n",
    "import numpy as np\n",
    "import matplotlib.pyplot as plt\n",
    "%matplotlib inline"
   ]
  },
  {
   "cell_type": "code",
   "execution_count": 2,
   "metadata": {},
   "outputs": [
    {
     "data": {
      "text/html": [
       "<div>\n",
       "<style scoped>\n",
       "    .dataframe tbody tr th:only-of-type {\n",
       "        vertical-align: middle;\n",
       "    }\n",
       "\n",
       "    .dataframe tbody tr th {\n",
       "        vertical-align: top;\n",
       "    }\n",
       "\n",
       "    .dataframe thead th {\n",
       "        text-align: right;\n",
       "    }\n",
       "</style>\n",
       "<table border=\"1\" class=\"dataframe\">\n",
       "  <thead>\n",
       "    <tr style=\"text-align: right;\">\n",
       "      <th></th>\n",
       "      <th>sepal_length</th>\n",
       "      <th>sepal_width</th>\n",
       "      <th>petal_length</th>\n",
       "      <th>petal_width</th>\n",
       "      <th>species</th>\n",
       "    </tr>\n",
       "  </thead>\n",
       "  <tbody>\n",
       "    <tr>\n",
       "      <th>0</th>\n",
       "      <td>5.1</td>\n",
       "      <td>3.5</td>\n",
       "      <td>1.4</td>\n",
       "      <td>0.2</td>\n",
       "      <td>setosa</td>\n",
       "    </tr>\n",
       "    <tr>\n",
       "      <th>1</th>\n",
       "      <td>4.9</td>\n",
       "      <td>3.0</td>\n",
       "      <td>1.4</td>\n",
       "      <td>0.2</td>\n",
       "      <td>setosa</td>\n",
       "    </tr>\n",
       "    <tr>\n",
       "      <th>2</th>\n",
       "      <td>4.7</td>\n",
       "      <td>3.2</td>\n",
       "      <td>1.3</td>\n",
       "      <td>0.2</td>\n",
       "      <td>setosa</td>\n",
       "    </tr>\n",
       "    <tr>\n",
       "      <th>3</th>\n",
       "      <td>4.6</td>\n",
       "      <td>3.1</td>\n",
       "      <td>1.5</td>\n",
       "      <td>0.2</td>\n",
       "      <td>setosa</td>\n",
       "    </tr>\n",
       "    <tr>\n",
       "      <th>4</th>\n",
       "      <td>5.0</td>\n",
       "      <td>3.6</td>\n",
       "      <td>1.4</td>\n",
       "      <td>0.2</td>\n",
       "      <td>setosa</td>\n",
       "    </tr>\n",
       "  </tbody>\n",
       "</table>\n",
       "</div>"
      ],
      "text/plain": [
       "   sepal_length  sepal_width  petal_length  petal_width species\n",
       "0           5.1          3.5           1.4          0.2  setosa\n",
       "1           4.9          3.0           1.4          0.2  setosa\n",
       "2           4.7          3.2           1.3          0.2  setosa\n",
       "3           4.6          3.1           1.5          0.2  setosa\n",
       "4           5.0          3.6           1.4          0.2  setosa"
      ]
     },
     "execution_count": 2,
     "metadata": {},
     "output_type": "execute_result"
    }
   ],
   "source": [
    "#Load Dataset\n",
    "iris = pd.read_csv('./iris.csv')\n",
    "iris.head()"
   ]
  },
  {
   "cell_type": "code",
   "execution_count": 3,
   "metadata": {},
   "outputs": [
    {
     "name": "stderr",
     "output_type": "stream",
     "text": [
      "Using TensorFlow backend.\n"
     ]
    }
   ],
   "source": [
    "#Create x and y variables\n",
    "x = iris.drop('species', axis=1).values\n",
    "y = iris['species'].values\n",
    "\n",
    "#Train dataset using 20% test set\n",
    "from sklearn.model_selection import train_test_split\n",
    "x_train,x_test,y_train,y_test=train_test_split(x,y,test_size=0.2,stratify=y,random_state=100)\n",
    "\n",
    "#Fix the imbalanced Classes\n",
    "from imblearn.over_sampling import SMOTE\n",
    "smt=SMOTE(random_state=100)\n",
    "x_train_smt,y_train_smt = smt.fit_resample(x_train,y_train)\n",
    "\n",
    "#Scale the Data\n",
    "from sklearn.preprocessing import StandardScaler\n",
    "sc = StandardScaler()\n",
    "x_train2 = sc.fit_transform(x_train_smt)\n",
    "x_test2 = sc.fit_transform(x_test)\n",
    "\n",
    "x_2 = sc.fit_transform(x)"
   ]
  },
  {
   "cell_type": "code",
   "execution_count": 4,
   "metadata": {},
   "outputs": [
    {
     "name": "stdout",
     "output_type": "stream",
     "text": [
      "Train Data - Class Split\n",
      "Setosa - 40\n",
      "Versicolor - 40\n",
      "Virginica - 40\n"
     ]
    }
   ],
   "source": [
    "#Class Balance - Test Data\n",
    "print('Train Data - Class Split')\n",
    "num_set = (y_train_smt == 'setosa').sum()\n",
    "num_versi = (y_train_smt == 'versicolor').sum()\n",
    "num_virg = (y_train_smt == 'virginica').sum()\n",
    "print('Setosa -',  num_set)\n",
    "print('Versicolor -',  num_versi)\n",
    "print('Virginica -',  num_virg)"
   ]
  },
  {
   "cell_type": "code",
   "execution_count": 5,
   "metadata": {},
   "outputs": [],
   "source": [
    "#Import Models\n",
    "from sklearn.svm import SVC\n",
    "models2 = [SVC(kernel='linear')]"
   ]
  },
  {
   "cell_type": "code",
   "execution_count": 6,
   "metadata": {
    "scrolled": true
   },
   "outputs": [
    {
     "data": {
      "text/html": [
       "<div>\n",
       "<style scoped>\n",
       "    .dataframe tbody tr th:only-of-type {\n",
       "        vertical-align: middle;\n",
       "    }\n",
       "\n",
       "    .dataframe tbody tr th {\n",
       "        vertical-align: top;\n",
       "    }\n",
       "\n",
       "    .dataframe thead th {\n",
       "        text-align: right;\n",
       "    }\n",
       "</style>\n",
       "<table border=\"1\" class=\"dataframe\">\n",
       "  <thead>\n",
       "    <tr style=\"text-align: right;\">\n",
       "      <th></th>\n",
       "      <th>Algorithm Name</th>\n",
       "      <th>Test Accuracy</th>\n",
       "      <th>KFcv Model</th>\n",
       "      <th>rKFcv Model</th>\n",
       "      <th>Loocv Model</th>\n",
       "      <th>ShuffleSplit Model</th>\n",
       "    </tr>\n",
       "  </thead>\n",
       "  <tbody>\n",
       "    <tr>\n",
       "      <th>0</th>\n",
       "      <td>SVC</td>\n",
       "      <td>0.97</td>\n",
       "      <td>0.97</td>\n",
       "      <td>0.96</td>\n",
       "      <td>0.96</td>\n",
       "      <td>0.98</td>\n",
       "    </tr>\n",
       "  </tbody>\n",
       "</table>\n",
       "</div>"
      ],
      "text/plain": [
       "  Algorithm Name  Test Accuracy  KFcv Model  rKFcv Model  Loocv Model  \\\n",
       "0            SVC           0.97        0.97         0.96         0.96   \n",
       "\n",
       "   ShuffleSplit Model  \n",
       "0                0.98  "
      ]
     },
     "execution_count": 6,
     "metadata": {},
     "output_type": "execute_result"
    }
   ],
   "source": [
    "#Create Model Comparison\n",
    "from sklearn.model_selection import KFold\n",
    "from sklearn.model_selection import RepeatedKFold\n",
    "from sklearn.model_selection import LeaveOneOut\n",
    "from sklearn.model_selection import ShuffleSplit\n",
    "from sklearn.model_selection import cross_validate\n",
    "\n",
    "#Scoring Parameters\n",
    "scoring = {'acc': 'accuracy'}\n",
    "\n",
    "#Model Creation\n",
    "MLA_columns = []\n",
    "MLA_compare = pd.DataFrame(columns = MLA_columns)\n",
    "\n",
    "row_index = 0\n",
    "for alg in models2:\n",
    "    \n",
    "    #SVM Model\n",
    "    predicted = alg.fit(x_train2, y_train_smt).predict(x_test2)\n",
    "    \n",
    "    #K-Fold CV\n",
    "    kfcv = alg\n",
    "    kf = KFold(n_splits=10, shuffle=True, random_state=100)\n",
    "    KFcv = cross_validate(kfcv, x_2, y, scoring=scoring,\n",
    "                         cv=kf)\n",
    "    \n",
    "    #Repeated K-Fold CV\n",
    "    rkfcv = alg.fit(x_train2, y_train_smt)\n",
    "    rkf = RepeatedKFold(n_splits=10, n_repeats=3, random_state=100)\n",
    "    rKFcv = cross_validate(rkfcv, x_2, y, scoring=scoring,\n",
    "                         cv=rkf)\n",
    "    \n",
    "    #LOOCV\n",
    "    loomodel=alg.fit(x_train2, y_train_smt)\n",
    "    loo = LeaveOneOut()\n",
    "    loocv = cross_validate(loomodel, x_2, y, scoring=scoring,\n",
    "                         cv=loo)\n",
    "    \n",
    "    #Shuffle-Split\n",
    "    rsmodel=alg.fit(x_train2, y_train_smt)\n",
    "    rs = ShuffleSplit(n_splits=10, test_size=.20, random_state=100)\n",
    "    rscv = cross_validate(rsmodel, x_2, y, scoring=scoring,\n",
    "                         cv=rs)\n",
    "        \n",
    "    MLA_name = alg.__class__.__name__\n",
    "    MLA_compare.loc[row_index,'Algorithm Name'] = MLA_name\n",
    "    MLA_compare.loc[row_index, 'Test Accuracy'] = round(alg.score(x_test2, y_test), 2)\n",
    "    MLA_compare.loc[row_index, 'KFcv Model'] = round(KFcv['test_acc'].mean(),2)\n",
    "    MLA_compare.loc[row_index, 'rKFcv Model'] = round(rKFcv['test_acc'].mean(),2)\n",
    "    MLA_compare.loc[row_index, 'Loocv Model'] = round(loocv['test_acc'].mean(),2)\n",
    "    MLA_compare.loc[row_index, 'ShuffleSplit Model'] = round(rscv['test_acc'].mean(),2)\n",
    "    \n",
    "    row_index+=1\n",
    "\n",
    "MLA_compare"
   ]
  },
  {
   "cell_type": "code",
   "execution_count": 7,
   "metadata": {},
   "outputs": [
    {
     "name": "stdout",
     "output_type": "stream",
     "text": [
      "Bootstrapping Accuracy: 0.97\n"
     ]
    }
   ],
   "source": [
    "#Bootstrapping\n",
    "from sklearn.utils import resample\n",
    "models3 = SVC(kernel='linear')\n",
    "x2 = x\n",
    "y2 = y\n",
    "\n",
    "bootx2 = resample(x2, replace=True, n_samples=len(x2), random_state=100)\n",
    "booty2 = resample(y2, replace=True, n_samples=len(y2), random_state=100)\n",
    "\n",
    "#Train dataset using 20% test set\n",
    "from sklearn.model_selection import train_test_split\n",
    "x_trainboot,x_testboot,y_trainboot,y_testboot=train_test_split(bootx2,booty2,test_size=0.2,random_state=100)\n",
    "\n",
    "#Fix the imbalanced Classes\n",
    "x_trainboot_smt,y_trainboot_smt = smt.fit_resample(x_trainboot,y_trainboot)\n",
    "\n",
    "#Scale the Data\n",
    "from sklearn.preprocessing import StandardScaler\n",
    "sc = StandardScaler()\n",
    "x_trainboot2 = sc.fit_transform(x_trainboot_smt)\n",
    "x_testboot2 = sc.fit_transform(x_testboot)\n",
    "\n",
    "predicted = models3.fit(x_trainboot2, y_trainboot_smt).predict(x_testboot2)\n",
    "print('Bootstrapping Accuracy:',round(models3.score(x_testboot2, y_testboot), 2))"
   ]
  },
  {
   "cell_type": "code",
   "execution_count": null,
   "metadata": {},
   "outputs": [],
   "source": []
  }
 ],
 "metadata": {
  "kernelspec": {
   "display_name": "Python 3",
   "language": "python",
   "name": "python3"
  },
  "language_info": {
   "codemirror_mode": {
    "name": "ipython",
    "version": 3
   },
   "file_extension": ".py",
   "mimetype": "text/x-python",
   "name": "python",
   "nbconvert_exporter": "python",
   "pygments_lexer": "ipython3",
   "version": "3.7.3"
  }
 },
 "nbformat": 4,
 "nbformat_minor": 2
}
