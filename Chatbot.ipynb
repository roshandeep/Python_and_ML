{
 "cells": [
  {
   "cell_type": "code",
   "execution_count": 1,
   "metadata": {},
   "outputs": [],
   "source": [
    "import nltk\n",
    "from nltk.stem import WordNetLemmatizer\n",
    "lemmatizer = WordNetLemmatizer()\n",
    "import json\n",
    "import pickle"
   ]
  },
  {
   "cell_type": "code",
   "execution_count": 2,
   "metadata": {},
   "outputs": [
    {
     "name": "stderr",
     "output_type": "stream",
     "text": [
      "Using TensorFlow backend.\n"
     ]
    }
   ],
   "source": [
    "import numpy as np\n",
    "from keras.models import Sequential\n",
    "from keras.layers import Dense, Activation, Dropout\n",
    "from keras.optimizers import SGD\n",
    "import random"
   ]
  },
  {
   "cell_type": "code",
   "execution_count": 3,
   "metadata": {},
   "outputs": [],
   "source": [
    "words=[]\n",
    "classes = []\n",
    "documents = []\n",
    "ignore_words = ['?', '!']\n",
    "data_file = open('intents.json').read()\n",
    "intents = json.loads(data_file)"
   ]
  },
  {
   "cell_type": "code",
   "execution_count": 6,
   "metadata": {},
   "outputs": [
    {
     "name": "stdout",
     "output_type": "stream",
     "text": [
      "{\n",
      "  \"intents\": [\n",
      "    {\n",
      "      \"tag\": \"greeting\",\n",
      "      \"patterns\": [\n",
      "        \"Hi there\",\n",
      "        \"How are you\",\n",
      "        \"Is anyone there?\",\n",
      "        \"Hey\",\n",
      "        \"Hola\",\n",
      "        \"Hello\",\n",
      "        \"Good day\"\n",
      "      ],\n",
      "      \"responses\": [\n",
      "        \"Hello, thanks for asking\",\n",
      "        \"Good to see you again\",\n",
      "        \"Hi there, how can I help?\"\n",
      "      ],\n",
      "      \"context\": [\n",
      "        \"\"\n",
      "      ]\n",
      "    },\n",
      "    {\n",
      "      \"tag\": \"goodbye\",\n",
      "      \"patterns\": [\n",
      "        \"Bye\",\n",
      "        \"See you later\",\n",
      "        \"Goodbye\",\n",
      "        \"Nice chatting to you, bye\",\n",
      "        \"Till next time\"\n",
      "      ],\n",
      "      \"responses\": [\n",
      "        \"See you!\",\n",
      "        \"Have a nice day\",\n",
      "        \"Bye! Come back again soon.\"\n",
      "      ],\n",
      "      \"context\": [\n",
      "        \"\"\n",
      "      ]\n",
      "    },\n",
      "    {\n",
      "      \"tag\": \"thanks\",\n",
      "      \"patterns\": [\n",
      "        \"Thanks\",\n",
      "        \"Thank you\",\n",
      "        \"That's helpful\",\n",
      "        \"Awesome, thanks\",\n",
      "        \"Thanks for helping me\"\n",
      "      ],\n",
      "      \"responses\": [\n",
      "        \"Happy to help!\",\n",
      "        \"Any time!\",\n",
      "        \"My pleasure\"\n",
      "      ],\n",
      "      \"context\": [\n",
      "        \"\"\n",
      "      ]\n",
      "    },\n",
      "    {\n",
      "      \"tag\": \"noanswer\",\n",
      "      \"patterns\": [],\n",
      "      \"responses\": [\n",
      "        \"Sorry, can't understand you\",\n",
      "        \"Please give me more info\",\n",
      "        \"Not sure I understand\"\n",
      "      ],\n",
      "      \"context\": [\n",
      "        \"\"\n",
      "      ]\n",
      "    },\n",
      "    {\n",
      "      \"tag\": \"options\",\n",
      "      \"patterns\": [\n",
      "        \"How you could help me?\",\n",
      "        \"What you can do?\",\n",
      "        \"What help you provide?\",\n",
      "        \"How you can be helpful?\",\n",
      "        \"What support is offered\"\n",
      "      ],\n",
      "      \"responses\": [\n",
      "        \"I can guide you through Adverse drug reaction list, Blood pressure tracking, Hospitals and Pharmacies\",\n",
      "        \"Offering support for Adverse drug reaction, Blood pressure, Hospitals and Pharmacies\"\n",
      "      ],\n",
      "      \"context\": [\n",
      "        \"\"\n",
      "      ]\n",
      "    },\n",
      "    {\n",
      "      \"tag\": \"adverse_drug\",\n",
      "      \"patterns\": [\n",
      "        \"How to check Adverse drug reaction?\",\n",
      "        \"Open adverse drugs module\",\n",
      "        \"Give me a list of drugs causing adverse behavior\",\n",
      "        \"List all drugs suitable for patient with adverse reaction\",\n",
      "        \"Which drugs dont have adverse reaction?\"\n",
      "      ],\n",
      "      \"responses\": [\n",
      "        \"Navigating to Adverse drug reaction module\"\n",
      "      ],\n",
      "      \"context\": [\n",
      "        \"\"\n",
      "      ]\n",
      "    },\n",
      "    {\n",
      "      \"tag\": \"blood_pressure\",\n",
      "      \"patterns\": [\n",
      "        \"Open blood pressure module\",\n",
      "        \"Task related to blood pressure\",\n",
      "        \"Blood pressure data entry\",\n",
      "        \"I want to log blood pressure results\",\n",
      "        \"Blood pressure data management\"\n",
      "      ],\n",
      "      \"responses\": [\n",
      "        \"Navigating to Blood Pressure module\"\n",
      "      ],\n",
      "      \"context\": [\n",
      "        \"\"\n",
      "      ]\n",
      "    },\n",
      "    {\n",
      "      \"tag\": \"blood_pressure_search\",\n",
      "      \"patterns\": [\n",
      "        \"I want to search for blood pressure result history\",\n",
      "        \"Blood pressure for patient\",\n",
      "        \"Load patient blood pressure result\",\n",
      "        \"Show blood pressure results for patient\",\n",
      "        \"Find blood pressure results by ID\"\n",
      "      ],\n",
      "      \"responses\": [\n",
      "        \"Please provide Patient ID\",\n",
      "        \"Patient ID?\"\n",
      "      ],\n",
      "      \"context\": [\n",
      "        \"search_blood_pressure_by_patient_id\"\n",
      "      ]\n",
      "    },\n",
      "    {\n",
      "      \"tag\": \"search_blood_pressure_by_patient_id\",\n",
      "      \"patterns\": [],\n",
      "      \"responses\": [\n",
      "        \"Loading Blood pressure result for Patient\"\n",
      "      ],\n",
      "      \"context\": [\n",
      "        \"\"\n",
      "      ]\n",
      "    },\n",
      "    {\n",
      "      \"tag\": \"pharmacy_search\",\n",
      "      \"patterns\": [\n",
      "        \"Find me a pharmacy\",\n",
      "        \"Find pharmacy\",\n",
      "        \"List of pharmacies nearby\",\n",
      "        \"Locate pharmacy\",\n",
      "        \"Search pharmacy\"\n",
      "      ],\n",
      "      \"responses\": [\n",
      "        \"Please provide pharmacy name\"\n",
      "      ],\n",
      "      \"context\": [\n",
      "        \"search_pharmacy_by_name\"\n",
      "      ]\n",
      "    },\n",
      "    {\n",
      "      \"tag\": \"search_pharmacy_by_name\",\n",
      "      \"patterns\": [],\n",
      "      \"responses\": [\n",
      "        \"Loading pharmacy details\"\n",
      "      ],\n",
      "      \"context\": [\n",
      "        \"\"\n",
      "      ]\n",
      "    },\n",
      "    {\n",
      "      \"tag\": \"hospital_search\",\n",
      "      \"patterns\": [\n",
      "        \"Lookup for hospital\",\n",
      "        \"Searching for hospital to transfer patient\",\n",
      "        \"I want to search hospital data\",\n",
      "        \"Hospital lookup for patient\",\n",
      "        \"Looking up hospital details\"\n",
      "      ],\n",
      "      \"responses\": [\n",
      "        \"Please provide hospital name or location\"\n",
      "      ],\n",
      "      \"context\": [\n",
      "        \"search_hospital_by_params\"\n",
      "      ]\n",
      "    },\n",
      "    {\n",
      "      \"tag\": \"search_hospital_by_params\",\n",
      "      \"patterns\": [],\n",
      "      \"responses\": [\n",
      "        \"Please provide hospital type\"\n",
      "      ],\n",
      "      \"context\": [\n",
      "        \"search_hospital_by_type\"\n",
      "      ]\n",
      "    },\n",
      "    {\n",
      "      \"tag\": \"search_hospital_by_type\",\n",
      "      \"patterns\": [],\n",
      "      \"responses\": [\n",
      "        \"Loading hospital details\"\n",
      "      ],\n",
      "      \"context\": [\n",
      "        \"\"\n",
      "      ]\n",
      "    }\n",
      "  ]\n",
      "}\n"
     ]
    }
   ],
   "source": [
    "print(json.dumps(intents, indent=2))"
   ]
  },
  {
   "cell_type": "code",
   "execution_count": 7,
   "metadata": {},
   "outputs": [],
   "source": [
    "for intent in intents['intents']:\n",
    "    for pattern in intent['patterns']:\n",
    "\n",
    "        #tokenize each word\n",
    "        w = nltk.word_tokenize(pattern)\n",
    "        words.extend(w)\n",
    "        #add documents in the corpus\n",
    "        documents.append((w, intent['tag']))\n",
    "\n",
    "        # add to our classes list\n",
    "        if intent['tag'] not in classes:\n",
    "            classes.append(intent['tag'])"
   ]
  },
  {
   "cell_type": "code",
   "execution_count": 11,
   "metadata": {},
   "outputs": [
    {
     "name": "stdout",
     "output_type": "stream",
     "text": [
      "['Hi', 'there', 'How', 'are', 'you', 'Is', 'anyone', 'there', '?', 'Hey', 'Hola', 'Hello', 'Good', 'day', 'Bye', 'See', 'you', 'later', 'Goodbye', 'Nice', 'chatting', 'to', 'you', ',', 'bye', 'Till', 'next', 'time', 'Thanks', 'Thank', 'you', 'That', \"'s\", 'helpful', 'Awesome', ',', 'thanks', 'Thanks', 'for', 'helping', 'me', 'How', 'you', 'could', 'help', 'me', '?', 'What', 'you', 'can', 'do', '?', 'What', 'help', 'you', 'provide', '?', 'How', 'you', 'can', 'be', 'helpful', '?', 'What', 'support', 'is', 'offered', 'How', 'to', 'check', 'Adverse', 'drug', 'reaction', '?', 'Open', 'adverse', 'drugs', 'module', 'Give', 'me', 'a', 'list', 'of', 'drugs', 'causing', 'adverse', 'behavior', 'List', 'all', 'drugs', 'suitable', 'for', 'patient', 'with', 'adverse', 'reaction', 'Which', 'drugs', 'dont', 'have', 'adverse', 'reaction', '?', 'Open', 'blood', 'pressure', 'module', 'Task', 'related', 'to', 'blood', 'pressure', 'Blood', 'pressure', 'data', 'entry', 'I', 'want', 'to', 'log', 'blood', 'pressure', 'results', 'Blood', 'pressure', 'data', 'management', 'I', 'want', 'to', 'search', 'for', 'blood', 'pressure', 'result', 'history', 'Blood', 'pressure', 'for', 'patient', 'Load', 'patient', 'blood', 'pressure', 'result', 'Show', 'blood', 'pressure', 'results', 'for', 'patient', 'Find', 'blood', 'pressure', 'results', 'by', 'ID', 'Find', 'me', 'a', 'pharmacy', 'Find', 'pharmacy', 'List', 'of', 'pharmacies', 'nearby', 'Locate', 'pharmacy', 'Search', 'pharmacy', 'Lookup', 'for', 'hospital', 'Searching', 'for', 'hospital', 'to', 'transfer', 'patient', 'I', 'want', 'to', 'search', 'hospital', 'data', 'Hospital', 'lookup', 'for', 'patient', 'Looking', 'up', 'hospital', 'details']\n",
      "[(['Hi', 'there'], 'greeting'), (['How', 'are', 'you'], 'greeting'), (['Is', 'anyone', 'there', '?'], 'greeting'), (['Hey'], 'greeting'), (['Hola'], 'greeting'), (['Hello'], 'greeting'), (['Good', 'day'], 'greeting'), (['Bye'], 'goodbye'), (['See', 'you', 'later'], 'goodbye'), (['Goodbye'], 'goodbye'), (['Nice', 'chatting', 'to', 'you', ',', 'bye'], 'goodbye'), (['Till', 'next', 'time'], 'goodbye'), (['Thanks'], 'thanks'), (['Thank', 'you'], 'thanks'), (['That', \"'s\", 'helpful'], 'thanks'), (['Awesome', ',', 'thanks'], 'thanks'), (['Thanks', 'for', 'helping', 'me'], 'thanks'), (['How', 'you', 'could', 'help', 'me', '?'], 'options'), (['What', 'you', 'can', 'do', '?'], 'options'), (['What', 'help', 'you', 'provide', '?'], 'options'), (['How', 'you', 'can', 'be', 'helpful', '?'], 'options'), (['What', 'support', 'is', 'offered'], 'options'), (['How', 'to', 'check', 'Adverse', 'drug', 'reaction', '?'], 'adverse_drug'), (['Open', 'adverse', 'drugs', 'module'], 'adverse_drug'), (['Give', 'me', 'a', 'list', 'of', 'drugs', 'causing', 'adverse', 'behavior'], 'adverse_drug'), (['List', 'all', 'drugs', 'suitable', 'for', 'patient', 'with', 'adverse', 'reaction'], 'adverse_drug'), (['Which', 'drugs', 'dont', 'have', 'adverse', 'reaction', '?'], 'adverse_drug'), (['Open', 'blood', 'pressure', 'module'], 'blood_pressure'), (['Task', 'related', 'to', 'blood', 'pressure'], 'blood_pressure'), (['Blood', 'pressure', 'data', 'entry'], 'blood_pressure'), (['I', 'want', 'to', 'log', 'blood', 'pressure', 'results'], 'blood_pressure'), (['Blood', 'pressure', 'data', 'management'], 'blood_pressure'), (['I', 'want', 'to', 'search', 'for', 'blood', 'pressure', 'result', 'history'], 'blood_pressure_search'), (['Blood', 'pressure', 'for', 'patient'], 'blood_pressure_search'), (['Load', 'patient', 'blood', 'pressure', 'result'], 'blood_pressure_search'), (['Show', 'blood', 'pressure', 'results', 'for', 'patient'], 'blood_pressure_search'), (['Find', 'blood', 'pressure', 'results', 'by', 'ID'], 'blood_pressure_search'), (['Find', 'me', 'a', 'pharmacy'], 'pharmacy_search'), (['Find', 'pharmacy'], 'pharmacy_search'), (['List', 'of', 'pharmacies', 'nearby'], 'pharmacy_search'), (['Locate', 'pharmacy'], 'pharmacy_search'), (['Search', 'pharmacy'], 'pharmacy_search'), (['Lookup', 'for', 'hospital'], 'hospital_search'), (['Searching', 'for', 'hospital', 'to', 'transfer', 'patient'], 'hospital_search'), (['I', 'want', 'to', 'search', 'hospital', 'data'], 'hospital_search'), (['Hospital', 'lookup', 'for', 'patient'], 'hospital_search'), (['Looking', 'up', 'hospital', 'details'], 'hospital_search')]\n",
      "['greeting', 'goodbye', 'thanks', 'options', 'adverse_drug', 'blood_pressure', 'blood_pressure_search', 'pharmacy_search', 'hospital_search']\n"
     ]
    }
   ],
   "source": [
    "print(words)"
   ]
  },
  {
   "cell_type": "code",
   "execution_count": 12,
   "metadata": {},
   "outputs": [
    {
     "name": "stdout",
     "output_type": "stream",
     "text": [
      "[(['Hi', 'there'], 'greeting'), (['How', 'are', 'you'], 'greeting'), (['Is', 'anyone', 'there', '?'], 'greeting'), (['Hey'], 'greeting'), (['Hola'], 'greeting'), (['Hello'], 'greeting'), (['Good', 'day'], 'greeting'), (['Bye'], 'goodbye'), (['See', 'you', 'later'], 'goodbye'), (['Goodbye'], 'goodbye'), (['Nice', 'chatting', 'to', 'you', ',', 'bye'], 'goodbye'), (['Till', 'next', 'time'], 'goodbye'), (['Thanks'], 'thanks'), (['Thank', 'you'], 'thanks'), (['That', \"'s\", 'helpful'], 'thanks'), (['Awesome', ',', 'thanks'], 'thanks'), (['Thanks', 'for', 'helping', 'me'], 'thanks'), (['How', 'you', 'could', 'help', 'me', '?'], 'options'), (['What', 'you', 'can', 'do', '?'], 'options'), (['What', 'help', 'you', 'provide', '?'], 'options'), (['How', 'you', 'can', 'be', 'helpful', '?'], 'options'), (['What', 'support', 'is', 'offered'], 'options'), (['How', 'to', 'check', 'Adverse', 'drug', 'reaction', '?'], 'adverse_drug'), (['Open', 'adverse', 'drugs', 'module'], 'adverse_drug'), (['Give', 'me', 'a', 'list', 'of', 'drugs', 'causing', 'adverse', 'behavior'], 'adverse_drug'), (['List', 'all', 'drugs', 'suitable', 'for', 'patient', 'with', 'adverse', 'reaction'], 'adverse_drug'), (['Which', 'drugs', 'dont', 'have', 'adverse', 'reaction', '?'], 'adverse_drug'), (['Open', 'blood', 'pressure', 'module'], 'blood_pressure'), (['Task', 'related', 'to', 'blood', 'pressure'], 'blood_pressure'), (['Blood', 'pressure', 'data', 'entry'], 'blood_pressure'), (['I', 'want', 'to', 'log', 'blood', 'pressure', 'results'], 'blood_pressure'), (['Blood', 'pressure', 'data', 'management'], 'blood_pressure'), (['I', 'want', 'to', 'search', 'for', 'blood', 'pressure', 'result', 'history'], 'blood_pressure_search'), (['Blood', 'pressure', 'for', 'patient'], 'blood_pressure_search'), (['Load', 'patient', 'blood', 'pressure', 'result'], 'blood_pressure_search'), (['Show', 'blood', 'pressure', 'results', 'for', 'patient'], 'blood_pressure_search'), (['Find', 'blood', 'pressure', 'results', 'by', 'ID'], 'blood_pressure_search'), (['Find', 'me', 'a', 'pharmacy'], 'pharmacy_search'), (['Find', 'pharmacy'], 'pharmacy_search'), (['List', 'of', 'pharmacies', 'nearby'], 'pharmacy_search'), (['Locate', 'pharmacy'], 'pharmacy_search'), (['Search', 'pharmacy'], 'pharmacy_search'), (['Lookup', 'for', 'hospital'], 'hospital_search'), (['Searching', 'for', 'hospital', 'to', 'transfer', 'patient'], 'hospital_search'), (['I', 'want', 'to', 'search', 'hospital', 'data'], 'hospital_search'), (['Hospital', 'lookup', 'for', 'patient'], 'hospital_search'), (['Looking', 'up', 'hospital', 'details'], 'hospital_search')]\n"
     ]
    }
   ],
   "source": [
    "print(documents)"
   ]
  },
  {
   "cell_type": "code",
   "execution_count": 13,
   "metadata": {},
   "outputs": [
    {
     "name": "stdout",
     "output_type": "stream",
     "text": [
      "['greeting', 'goodbye', 'thanks', 'options', 'adverse_drug', 'blood_pressure', 'blood_pressure_search', 'pharmacy_search', 'hospital_search']\n"
     ]
    }
   ],
   "source": [
    "print(classes)"
   ]
  },
  {
   "cell_type": "code",
   "execution_count": null,
   "metadata": {},
   "outputs": [],
   "source": []
  }
 ],
 "metadata": {
  "kernelspec": {
   "display_name": "Python 3",
   "language": "python",
   "name": "python3"
  },
  "language_info": {
   "codemirror_mode": {
    "name": "ipython",
    "version": 3
   },
   "file_extension": ".py",
   "mimetype": "text/x-python",
   "name": "python",
   "nbconvert_exporter": "python",
   "pygments_lexer": "ipython3",
   "version": "3.7.3"
  }
 },
 "nbformat": 4,
 "nbformat_minor": 2
}
