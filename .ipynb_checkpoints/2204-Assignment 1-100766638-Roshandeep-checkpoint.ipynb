{
 "cells": [
  {
   "cell_type": "code",
   "execution_count": 1,
   "metadata": {},
   "outputs": [],
   "source": [
    "# importing necessary libraries\n",
    "import numpy as np\n",
    "import pandas as pd\n",
    "import matplotlib.pyplot as plt\n",
    "%matplotlib inline\n",
    "import seaborn as sns"
   ]
  },
  {
   "cell_type": "code",
   "execution_count": 2,
   "metadata": {},
   "outputs": [
    {
     "data": {
      "text/html": [
       "<div>\n",
       "<style scoped>\n",
       "    .dataframe tbody tr th:only-of-type {\n",
       "        vertical-align: middle;\n",
       "    }\n",
       "\n",
       "    .dataframe tbody tr th {\n",
       "        vertical-align: top;\n",
       "    }\n",
       "\n",
       "    .dataframe thead th {\n",
       "        text-align: right;\n",
       "    }\n",
       "</style>\n",
       "<table border=\"1\" class=\"dataframe\">\n",
       "  <thead>\n",
       "    <tr style=\"text-align: right;\">\n",
       "      <th></th>\n",
       "      <th>Cement</th>\n",
       "      <th>Blast</th>\n",
       "      <th>Fly Ash</th>\n",
       "      <th>Water</th>\n",
       "      <th>Superplasticizer</th>\n",
       "      <th>CA</th>\n",
       "      <th>FA</th>\n",
       "      <th>Age</th>\n",
       "      <th>CMS</th>\n",
       "    </tr>\n",
       "  </thead>\n",
       "  <tbody>\n",
       "    <tr>\n",
       "      <th>0</th>\n",
       "      <td>540.0</td>\n",
       "      <td>0.0</td>\n",
       "      <td>0.0</td>\n",
       "      <td>162.0</td>\n",
       "      <td>2.5</td>\n",
       "      <td>1040.0</td>\n",
       "      <td>676.0</td>\n",
       "      <td>28</td>\n",
       "      <td>79.99</td>\n",
       "    </tr>\n",
       "    <tr>\n",
       "      <th>1</th>\n",
       "      <td>540.0</td>\n",
       "      <td>0.0</td>\n",
       "      <td>0.0</td>\n",
       "      <td>162.0</td>\n",
       "      <td>2.5</td>\n",
       "      <td>1055.0</td>\n",
       "      <td>676.0</td>\n",
       "      <td>28</td>\n",
       "      <td>61.89</td>\n",
       "    </tr>\n",
       "    <tr>\n",
       "      <th>2</th>\n",
       "      <td>332.5</td>\n",
       "      <td>142.5</td>\n",
       "      <td>0.0</td>\n",
       "      <td>228.0</td>\n",
       "      <td>0.0</td>\n",
       "      <td>932.0</td>\n",
       "      <td>594.0</td>\n",
       "      <td>270</td>\n",
       "      <td>40.27</td>\n",
       "    </tr>\n",
       "    <tr>\n",
       "      <th>3</th>\n",
       "      <td>332.5</td>\n",
       "      <td>142.5</td>\n",
       "      <td>0.0</td>\n",
       "      <td>228.0</td>\n",
       "      <td>0.0</td>\n",
       "      <td>932.0</td>\n",
       "      <td>594.0</td>\n",
       "      <td>365</td>\n",
       "      <td>41.05</td>\n",
       "    </tr>\n",
       "    <tr>\n",
       "      <th>4</th>\n",
       "      <td>198.6</td>\n",
       "      <td>132.4</td>\n",
       "      <td>0.0</td>\n",
       "      <td>192.0</td>\n",
       "      <td>0.0</td>\n",
       "      <td>978.4</td>\n",
       "      <td>825.5</td>\n",
       "      <td>360</td>\n",
       "      <td>44.30</td>\n",
       "    </tr>\n",
       "  </tbody>\n",
       "</table>\n",
       "</div>"
      ],
      "text/plain": [
       "   Cement  Blast  Fly Ash  Water  Superplasticizer      CA     FA  Age    CMS\n",
       "0   540.0    0.0      0.0  162.0               2.5  1040.0  676.0   28  79.99\n",
       "1   540.0    0.0      0.0  162.0               2.5  1055.0  676.0   28  61.89\n",
       "2   332.5  142.5      0.0  228.0               0.0   932.0  594.0  270  40.27\n",
       "3   332.5  142.5      0.0  228.0               0.0   932.0  594.0  365  41.05\n",
       "4   198.6  132.4      0.0  192.0               0.0   978.4  825.5  360  44.30"
      ]
     },
     "execution_count": 2,
     "metadata": {},
     "output_type": "execute_result"
    }
   ],
   "source": [
    "#Load Dataset\n",
    "data=pd.read_csv('./Concrete_DataNew.csv')\n",
    "data.head()"
   ]
  },
  {
   "cell_type": "code",
   "execution_count": 22,
   "metadata": {},
   "outputs": [
    {
     "data": {
      "text/html": [
       "<div>\n",
       "<style scoped>\n",
       "    .dataframe tbody tr th:only-of-type {\n",
       "        vertical-align: middle;\n",
       "    }\n",
       "\n",
       "    .dataframe tbody tr th {\n",
       "        vertical-align: top;\n",
       "    }\n",
       "\n",
       "    .dataframe thead th {\n",
       "        text-align: right;\n",
       "    }\n",
       "</style>\n",
       "<table border=\"1\" class=\"dataframe\">\n",
       "  <thead>\n",
       "    <tr style=\"text-align: right;\">\n",
       "      <th></th>\n",
       "      <th>Cement</th>\n",
       "      <th>Blast</th>\n",
       "      <th>Fly_Ash</th>\n",
       "      <th>Water</th>\n",
       "      <th>Superplasticizer</th>\n",
       "      <th>CA</th>\n",
       "      <th>FA</th>\n",
       "      <th>Age</th>\n",
       "      <th>CMS</th>\n",
       "    </tr>\n",
       "  </thead>\n",
       "  <tbody>\n",
       "    <tr>\n",
       "      <th>count</th>\n",
       "      <td>1030.000000</td>\n",
       "      <td>1030.000000</td>\n",
       "      <td>1030.000000</td>\n",
       "      <td>1030.000000</td>\n",
       "      <td>1030.000000</td>\n",
       "      <td>1030.000000</td>\n",
       "      <td>1030.000000</td>\n",
       "      <td>1030.000000</td>\n",
       "      <td>1030.000000</td>\n",
       "    </tr>\n",
       "    <tr>\n",
       "      <th>mean</th>\n",
       "      <td>281.167864</td>\n",
       "      <td>73.895825</td>\n",
       "      <td>54.188350</td>\n",
       "      <td>181.567282</td>\n",
       "      <td>6.204660</td>\n",
       "      <td>972.918932</td>\n",
       "      <td>773.580485</td>\n",
       "      <td>45.662136</td>\n",
       "      <td>35.817961</td>\n",
       "    </tr>\n",
       "    <tr>\n",
       "      <th>std</th>\n",
       "      <td>104.506364</td>\n",
       "      <td>86.279342</td>\n",
       "      <td>63.997004</td>\n",
       "      <td>21.354219</td>\n",
       "      <td>5.973841</td>\n",
       "      <td>77.753954</td>\n",
       "      <td>80.175980</td>\n",
       "      <td>63.169912</td>\n",
       "      <td>16.705742</td>\n",
       "    </tr>\n",
       "    <tr>\n",
       "      <th>min</th>\n",
       "      <td>102.000000</td>\n",
       "      <td>0.000000</td>\n",
       "      <td>0.000000</td>\n",
       "      <td>121.800000</td>\n",
       "      <td>0.000000</td>\n",
       "      <td>801.000000</td>\n",
       "      <td>594.000000</td>\n",
       "      <td>1.000000</td>\n",
       "      <td>2.330000</td>\n",
       "    </tr>\n",
       "    <tr>\n",
       "      <th>25%</th>\n",
       "      <td>192.375000</td>\n",
       "      <td>0.000000</td>\n",
       "      <td>0.000000</td>\n",
       "      <td>164.900000</td>\n",
       "      <td>0.000000</td>\n",
       "      <td>932.000000</td>\n",
       "      <td>730.950000</td>\n",
       "      <td>7.000000</td>\n",
       "      <td>23.710000</td>\n",
       "    </tr>\n",
       "    <tr>\n",
       "      <th>50%</th>\n",
       "      <td>272.900000</td>\n",
       "      <td>22.000000</td>\n",
       "      <td>0.000000</td>\n",
       "      <td>185.000000</td>\n",
       "      <td>6.400000</td>\n",
       "      <td>968.000000</td>\n",
       "      <td>779.500000</td>\n",
       "      <td>28.000000</td>\n",
       "      <td>34.445000</td>\n",
       "    </tr>\n",
       "    <tr>\n",
       "      <th>75%</th>\n",
       "      <td>350.000000</td>\n",
       "      <td>142.950000</td>\n",
       "      <td>118.300000</td>\n",
       "      <td>192.000000</td>\n",
       "      <td>10.200000</td>\n",
       "      <td>1029.400000</td>\n",
       "      <td>824.000000</td>\n",
       "      <td>56.000000</td>\n",
       "      <td>46.135000</td>\n",
       "    </tr>\n",
       "    <tr>\n",
       "      <th>max</th>\n",
       "      <td>540.000000</td>\n",
       "      <td>359.400000</td>\n",
       "      <td>200.100000</td>\n",
       "      <td>247.000000</td>\n",
       "      <td>32.200000</td>\n",
       "      <td>1145.000000</td>\n",
       "      <td>992.600000</td>\n",
       "      <td>365.000000</td>\n",
       "      <td>82.600000</td>\n",
       "    </tr>\n",
       "  </tbody>\n",
       "</table>\n",
       "</div>"
      ],
      "text/plain": [
       "            Cement        Blast      Fly_Ash        Water  Superplasticizer  \\\n",
       "count  1030.000000  1030.000000  1030.000000  1030.000000       1030.000000   \n",
       "mean    281.167864    73.895825    54.188350   181.567282          6.204660   \n",
       "std     104.506364    86.279342    63.997004    21.354219          5.973841   \n",
       "min     102.000000     0.000000     0.000000   121.800000          0.000000   \n",
       "25%     192.375000     0.000000     0.000000   164.900000          0.000000   \n",
       "50%     272.900000    22.000000     0.000000   185.000000          6.400000   \n",
       "75%     350.000000   142.950000   118.300000   192.000000         10.200000   \n",
       "max     540.000000   359.400000   200.100000   247.000000         32.200000   \n",
       "\n",
       "                CA           FA          Age          CMS  \n",
       "count  1030.000000  1030.000000  1030.000000  1030.000000  \n",
       "mean    972.918932   773.580485    45.662136    35.817961  \n",
       "std      77.753954    80.175980    63.169912    16.705742  \n",
       "min     801.000000   594.000000     1.000000     2.330000  \n",
       "25%     932.000000   730.950000     7.000000    23.710000  \n",
       "50%     968.000000   779.500000    28.000000    34.445000  \n",
       "75%    1029.400000   824.000000    56.000000    46.135000  \n",
       "max    1145.000000   992.600000   365.000000    82.600000  "
      ]
     },
     "execution_count": 22,
     "metadata": {},
     "output_type": "execute_result"
    }
   ],
   "source": [
    "data.describe()"
   ]
  },
  {
   "cell_type": "code",
   "execution_count": 3,
   "metadata": {},
   "outputs": [
    {
     "data": {
      "text/html": [
       "\n",
       "        <iframe\n",
       "            width=\"900\"\n",
       "            height=\"350\"\n",
       "            src=\"Concrete_DataNew.html\"\n",
       "            frameborder=\"0\"\n",
       "            allowfullscreen\n",
       "        ></iframe>\n",
       "        "
      ],
      "text/plain": [
       "<IPython.lib.display.IFrame at 0x1c04807cb38>"
      ]
     },
     "metadata": {},
     "output_type": "display_data"
    }
   ],
   "source": [
    "# importing package\n",
    "import pandas_profiling as pp\n",
    "from IPython.display import IFrame\n",
    "\n",
    "# Profile Report\n",
    "Concrete_DataNew = pp.ProfileReport(data)\n",
    "Concrete_DataNew.to_file('Concrete_DataNew.html')\n",
    "display(IFrame('Concrete_DataNew.html', width=900, height=350))"
   ]
  },
  {
   "cell_type": "code",
   "execution_count": 18,
   "metadata": {},
   "outputs": [
    {
     "data": {
      "text/plain": [
       "CMS    1.0\n",
       "Name: CMS, dtype: float64"
      ]
     },
     "execution_count": 18,
     "metadata": {},
     "output_type": "execute_result"
    }
   ],
   "source": [
    "#Correlation Columns with Output\n",
    "cor = data.corr()\n",
    "cor_target = abs(cor['CMS'])\n",
    "\n",
    "#Selecting highly correlated features\n",
    "relevant_features = cor_target[cor_target>0.7]\n",
    "relevant_features.sort_values(ascending=False)"
   ]
  },
  {
   "cell_type": "code",
   "execution_count": 19,
   "metadata": {},
   "outputs": [
    {
     "name": "stdout",
     "output_type": "stream",
     "text": [
      "Correlated columns @ 0.7: []\n"
     ]
    }
   ],
   "source": [
    "#Find Independent Column Correlations\n",
    "def correlation(dataset,threshold):\n",
    "    col_corr= [] # List of correlated columns\n",
    "    corr_matrix=dataset.corr() #finding correlation between columns\n",
    "    for i in range (len(corr_matrix.columns)): #Number of columns\n",
    "        for j in range (i):\n",
    "            if abs(corr_matrix.iloc[i,j])>threshold: #checking correlation between columns\n",
    "                colName=(corr_matrix.columns[i], corr_matrix.columns[j]) #getting correlated columns\n",
    "                col_corr.append(colName) #adding correlated column name\n",
    "    return col_corr #returning set of column names\n",
    "col=correlation(data,0.7)\n",
    "print('Correlated columns @ 0.7:', col)"
   ]
  },
  {
   "cell_type": "code",
   "execution_count": 6,
   "metadata": {},
   "outputs": [
    {
     "data": {
      "text/plain": [
       "<matplotlib.axes._subplots.AxesSubplot at 0x1c04c1324e0>"
      ]
     },
     "execution_count": 6,
     "metadata": {},
     "output_type": "execute_result"
    },
    {
     "data": {
      "image/png": "[encoded data removed]",
      "text/plain": [
       "<Figure size 576x396 with 1 Axes>"
      ]
     },
     "metadata": {},
     "output_type": "display_data"
    }
   ],
   "source": [
    "# Density Plot and Histogram of Output Variable\n",
    "sns.distplot(data['CMS'], hist=True, kde=True, \n",
    "             color = 'darkblue', \n",
    "             hist_kws={'edgecolor':'black'},\n",
    "             kde_kws={'linewidth': 4})"
   ]
  },
  {
   "cell_type": "code",
   "execution_count": 7,
   "metadata": {},
   "outputs": [
    {
     "data": {
      "image/png": "[encoded data removed]",
      "text/plain": [
       "<Figure size 576x396 with 1 Axes>"
      ]
     },
     "metadata": {},
     "output_type": "display_data"
    }
   ],
   "source": [
    "from statsmodels.graphics.gofplots import qqplot\n",
    "import pylab\n",
    "# q-q plot\n",
    "qqplot(data['CMS'],line='s')\n",
    "pylab.show()"
   ]
  },
  {
   "cell_type": "code",
   "execution_count": 17,
   "metadata": {},
   "outputs": [
    {
     "name": "stdout",
     "output_type": "stream",
     "text": [
      "Statistics=0.980, p=0.000\n",
      "Sample does not look Gaussian (reject H0)\n"
     ]
    }
   ],
   "source": [
    "#Normality test - Shapiro-Wilk Test\n",
    "\n",
    "#   p <= alpha(0.05): reject H0, not normal.\n",
    "#   p > alpha(0.05): fail to reject H0, normal.\n",
    "\n",
    "from scipy.stats import shapiro\n",
    "stat, p = shapiro(data['CMS'])\n",
    "print('Statistics=%.3f, p=%.3f' % (stat, p))\n",
    "# interpret\n",
    "alpha = 0.05\n",
    "if p > alpha:\n",
    "    print('Sample looks Gaussian (fail to reject H0)')\n",
    "else:\n",
    "    print('Sample does not look Gaussian (reject H0)')"
   ]
  },
  {
   "cell_type": "code",
   "execution_count": 8,
   "metadata": {},
   "outputs": [],
   "source": [
    "#Create Standard Model\n",
    "\n",
    "#Define x and y variable\n",
    "x = data.drop('CMS',axis=1).values\n",
    "y = data['CMS'].values\n",
    "\n",
    "#Training and Test\n",
    "from sklearn.model_selection import train_test_split\n",
    "x_train,x_test,y_train,y_test=train_test_split(x,y,test_size=0.2,random_state=100)\n",
    "\n",
    "#Script for Linear Regression Model\n",
    "from sklearn.linear_model import LinearRegression\n",
    "from sklearn import metrics\n",
    "\n",
    "#Scale the Data\n",
    "from sklearn.preprocessing import StandardScaler\n",
    "sc = StandardScaler()\n",
    "x_train2 = sc.fit_transform(x_train)\n",
    "x_test2 = sc.fit_transform(x_test)\n",
    "\n",
    "x_2 = sc.fit_transform(x)"
   ]
  },
  {
   "cell_type": "code",
   "execution_count": 9,
   "metadata": {},
   "outputs": [
    {
     "name": "stdout",
     "output_type": "stream",
     "text": [
      "\n",
      "Original Model\n",
      "\n",
      "Method: Linear regression\n",
      "\n",
      "Intercept: 35.95\n",
      "                  Coefficients\n",
      "Cement               13.027382\n",
      "Blast                 8.952089\n",
      "Fly_Ash               5.955866\n",
      "Water                -2.849777\n",
      "Superplasticizer      1.737942\n",
      "CA                    1.592146\n",
      "FA                    2.035610\n",
      "Age                   7.219311\n",
      "\n",
      "R2: 0.62\n",
      "Mean Absolute Error: 8.22\n",
      "Mean Squared Error: 113.66\n",
      "Root Mean Squared Error: 10.66\n"
     ]
    }
   ],
   "source": [
    "#Create Model\n",
    "for name,method in [('Linear regression', LinearRegression())]: \n",
    "    method.fit(x_train2,y_train)\n",
    "    predict = method.predict(x_test2)\n",
    "\n",
    "print('\\nOriginal Model')\n",
    "print('\\nMethod: {}'.format(name))   \n",
    "\n",
    "#Coefficents\n",
    "print('\\nIntercept: {:.2f}'.format(float(method.intercept_)))\n",
    "coeff_table=pd.DataFrame(np.transpose(method.coef_),data.drop('CMS',axis=1).columns,columns=['Coefficients'])\n",
    "print(coeff_table)\n",
    "    \n",
    "#R2,MAE,MSE and RMSE\n",
    "print('\\nR2: {:.2f}'.format(metrics.r2_score(y_test,predict)))\n",
    "print('Mean Absolute Error: {:.2f}'.format(metrics.mean_absolute_error(y_test, predict)))  \n",
    "print('Mean Squared Error: {:.2f}'.format(metrics.mean_squared_error(y_test, predict)))  \n",
    "print('Root Mean Squared Error: {:.2f}'.format(np.sqrt(metrics.mean_squared_error(y_test, predict)))) "
   ]
  },
  {
   "cell_type": "code",
   "execution_count": 10,
   "metadata": {},
   "outputs": [
    {
     "data": {
      "text/html": [
       "<div>\n",
       "<style scoped>\n",
       "    .dataframe tbody tr th:only-of-type {\n",
       "        vertical-align: middle;\n",
       "    }\n",
       "\n",
       "    .dataframe tbody tr th {\n",
       "        vertical-align: top;\n",
       "    }\n",
       "\n",
       "    .dataframe thead th {\n",
       "        text-align: right;\n",
       "    }\n",
       "</style>\n",
       "<table border=\"1\" class=\"dataframe\">\n",
       "  <thead>\n",
       "    <tr style=\"text-align: right;\">\n",
       "      <th></th>\n",
       "      <th>VIF Factor</th>\n",
       "      <th>features</th>\n",
       "    </tr>\n",
       "  </thead>\n",
       "  <tbody>\n",
       "    <tr>\n",
       "      <th>7</th>\n",
       "      <td>1.699459</td>\n",
       "      <td>Age</td>\n",
       "    </tr>\n",
       "    <tr>\n",
       "      <th>1</th>\n",
       "      <td>3.329127</td>\n",
       "      <td>Blast</td>\n",
       "    </tr>\n",
       "    <tr>\n",
       "      <th>2</th>\n",
       "      <td>4.147833</td>\n",
       "      <td>Fly_Ash</td>\n",
       "    </tr>\n",
       "    <tr>\n",
       "      <th>4</th>\n",
       "      <td>5.471094</td>\n",
       "      <td>Superplasticizer</td>\n",
       "    </tr>\n",
       "    <tr>\n",
       "      <th>0</th>\n",
       "      <td>15.456717</td>\n",
       "      <td>Cement</td>\n",
       "    </tr>\n",
       "    <tr>\n",
       "      <th>6</th>\n",
       "      <td>72.790995</td>\n",
       "      <td>FA</td>\n",
       "    </tr>\n",
       "    <tr>\n",
       "      <th>3</th>\n",
       "      <td>82.157569</td>\n",
       "      <td>Water</td>\n",
       "    </tr>\n",
       "    <tr>\n",
       "      <th>5</th>\n",
       "      <td>84.955779</td>\n",
       "      <td>CA</td>\n",
       "    </tr>\n",
       "  </tbody>\n",
       "</table>\n",
       "</div>"
      ],
      "text/plain": [
       "   VIF Factor          features\n",
       "7    1.699459               Age\n",
       "1    3.329127             Blast\n",
       "2    4.147833           Fly_Ash\n",
       "4    5.471094  Superplasticizer\n",
       "0   15.456717            Cement\n",
       "6   72.790995                FA\n",
       "3   82.157569             Water\n",
       "5   84.955779                CA"
      ]
     },
     "execution_count": 10,
     "metadata": {},
     "output_type": "execute_result"
    }
   ],
   "source": [
    "#VIF Factors\n",
    "from statsmodels.stats.outliers_influence import variance_inflation_factor\n",
    "\n",
    "df = data._get_numeric_data() #This line will drop non-numeric cols\n",
    "x = data.drop('CMS',axis=1)\n",
    "\n",
    "# For each X, calculate VIF and save in dataframe\n",
    "vif = pd.DataFrame()\n",
    "vif[\"VIF Factor\"] = [variance_inflation_factor(x.values, i) for i in range(x.shape[1])]\n",
    "vif[\"features\"] = x.columns\n",
    "vif.sort_values('VIF Factor')"
   ]
  },
  {
   "cell_type": "code",
   "execution_count": 11,
   "metadata": {},
   "outputs": [],
   "source": [
    "#Remove high VIF Variables (greater than 70) and Run Multivariate Regression\n",
    "\n",
    "#Define x and y variable\n",
    "x2 = data.drop(['CMS','Water','CA','FA'],axis=1).values\n",
    "y2 = data['CMS'].values\n",
    "\n",
    "#Training and Test\n",
    "from sklearn.model_selection import train_test_split\n",
    "x_train,x_test,y_train,y_test=train_test_split(x2,y2,test_size=0.2,random_state=100)\n",
    "\n",
    "#Script for Linear Regression Model\n",
    "from sklearn.linear_model import LinearRegression\n",
    "from sklearn import metrics\n",
    "\n",
    "#Scale the Data\n",
    "from sklearn.preprocessing import StandardScaler\n",
    "sc = StandardScaler()\n",
    "x_train2 = sc.fit_transform(x_train)\n",
    "x_test2 = sc.fit_transform(x_test)\n",
    "\n",
    "x_2 = sc.fit_transform(x2)"
   ]
  },
  {
   "cell_type": "code",
   "execution_count": 12,
   "metadata": {},
   "outputs": [
    {
     "name": "stdout",
     "output_type": "stream",
     "text": [
      "\n",
      " Regression Model - using VIF information\n",
      "\n",
      "Method: Linear regression\n",
      "\n",
      "Intercept: 35.95\n",
      "                  Coefficients\n",
      "Cement               10.832104\n",
      "Blast                 6.185626\n",
      "Fly_Ash               3.916907\n",
      "Superplasticizer      4.562773\n",
      "Age                   6.451747\n",
      "\n",
      "R2: 0.58\n",
      "Mean Absolute Error: 8.62\n",
      "Mean Squared Error: 125.09\n",
      "Root Mean Squared Error: 11.18\n"
     ]
    }
   ],
   "source": [
    "#Create Standard Model - Removing VIF Variable\n",
    "for name,method in [('Linear regression', LinearRegression())]: \n",
    "    method.fit(x_train2,y_train)\n",
    "    predict = method.predict(x_test2)\n",
    "\n",
    "print('\\n Regression Model - using VIF information')\n",
    "print('\\nMethod: {}'.format(name))   \n",
    "\n",
    "#Coefficents\n",
    "print('\\nIntercept: {:.2f}'.format(float(method.intercept_)))\n",
    "coeff_table=pd.DataFrame(np.transpose(method.coef_),\n",
    "                         data.drop(['CMS','Water','CA','FA'],axis=1).columns,\n",
    "                         columns=['Coefficients'])\n",
    "print(coeff_table)\n",
    "    \n",
    "#R2,MAE,MSE and RMSE\n",
    "print('\\nR2: {:.2f}'.format(metrics.r2_score(y_test,predict)))\n",
    "print('Mean Absolute Error: {:.2f}'.format(metrics.mean_absolute_error(y_test, predict)))  \n",
    "print('Mean Squared Error: {:.2f}'.format(metrics.mean_squared_error(y_test, predict)))  \n",
    "print('Root Mean Squared Error: {:.2f}'.format(np.sqrt(metrics.mean_squared_error(y_test, predict)))) "
   ]
  },
  {
   "cell_type": "code",
   "execution_count": 13,
   "metadata": {},
   "outputs": [],
   "source": [
    "# Construct some pipelines \n",
    "from sklearn.pipeline import Pipeline\n",
    "from sklearn.preprocessing import StandardScaler\n",
    "\n",
    "#Create Pipeline\n",
    "\n",
    "pipeline =[]\n",
    "\n",
    "pipe_lm = Pipeline([('scl', StandardScaler()),\n",
    "                    ('clf', LinearRegression())])\n",
    "pipeline.insert(0,pipe_lm)\n",
    "\n",
    "# Set grid search params \n",
    "\n",
    "modelpara =[]\n",
    "\n",
    "param_gridlm = {'clf__fit_intercept':[True,False],\n",
    "             'clf__normalize':[True,False], \n",
    "             'clf__copy_X':[True, False]}\n",
    "modelpara.insert(0,param_gridlm)"
   ]
  },
  {
   "cell_type": "code",
   "execution_count": 14,
   "metadata": {},
   "outputs": [],
   "source": [
    "#Define Gridsearch Function\n",
    "\n",
    "from sklearn.model_selection import GridSearchCV\n",
    "from sklearn.model_selection import RepeatedKFold\n",
    "from sklearn.model_selection import cross_val_score\n",
    "\n",
    "def Gridsearch_cv(model, params):\n",
    "    \n",
    "    #Cross-validation Function\n",
    "    cv2=RepeatedKFold(n_splits=10, n_repeats=5, random_state=100)\n",
    "        \n",
    "    #GridSearch CV\n",
    "    gs_clf = GridSearchCV(model, params, n_jobs=-1, cv=cv2,scoring='neg_mean_squared_error')\n",
    "    gs_clf = gs_clf.fit(x_train2, y_train)\n",
    "    model = gs_clf.best_estimator_\n",
    "    \n",
    "    #Nested CV\n",
    "    scoresNested = cross_val_score(gs_clf, x_2, y2, \n",
    "                             scoring='neg_mean_squared_error', cv=5,\n",
    "                             n_jobs= -1)    \n",
    "      \n",
    "    # Use best model and test data for final evaluation\n",
    "    y_pred = model.predict(x_test2)\n",
    "\n",
    "    #Identify Best Parameters to Optimize the Model\n",
    "    bestpara=str(gs_clf.best_params_)\n",
    "   \n",
    "    #Output Heading\n",
    "    print('\\nOptimized Model')\n",
    "    print('\\nModel Name:',str(pipeline.named_steps['clf']))\n",
    "        \n",
    "    #Output Validation Statistics\n",
    "    print('\\nBest Parameters:',bestpara)\n",
    "    \n",
    "    #Test data accuracy of model with best params    \n",
    "    print('\\nIntercept: {:.2f}'.format(float(gs_clf.best_estimator_.named_steps['clf'].intercept_)))\n",
    "    print('\\nModel coefficients: ')   \n",
    "    for name, score in zip(list(data.drop(['CMS','Water','CA','FA'],axis=1)),\n",
    "                           gs_clf.best_estimator_.named_steps['clf'].coef_):\n",
    "         print(name, round(score,2)) \n",
    "    \n",
    "    #Print R2\n",
    "    print('\\nR2: {:0.2f}'.format(metrics.r2_score(y_test,y_pred)))\n",
    "    #Print MSE and RMSE\n",
    "    print('\\nNestedCV MSE:  {:0.2f}'.format(np.mean(-scoresNested)))\n",
    "    print('NestedCV RMSE:  {:0.2f}'.format(np.sqrt(np.mean(-scoresNested)))) "
   ]
  },
  {
   "cell_type": "code",
   "execution_count": 15,
   "metadata": {},
   "outputs": [
    {
     "name": "stdout",
     "output_type": "stream",
     "text": [
      "\n",
      "Optimized Model\n",
      "\n",
      "Model Name: LinearRegression(copy_X=True, fit_intercept=True, n_jobs=None, normalize=False)\n",
      "\n",
      "Best Parameters: {'clf__copy_X': True, 'clf__fit_intercept': True, 'clf__normalize': True}\n",
      "\n",
      "Intercept: 35.95\n",
      "\n",
      "Model coefficients: \n",
      "Cement 10.83\n",
      "Blast 6.19\n",
      "Fly_Ash 3.92\n",
      "Superplasticizer 4.56\n",
      "Age 6.45\n",
      "\n",
      "R2: 0.58\n",
      "\n",
      "NestedCV MSE:  144.02\n",
      "NestedCV RMSE:  12.00\n"
     ]
    }
   ],
   "source": [
    "#Run Models\n",
    "for pipeline, modelpara in zip(pipeline,modelpara):\n",
    "    Gridsearch_cv(pipeline,modelpara)"
   ]
  },
  {
   "cell_type": "code",
   "execution_count": null,
   "metadata": {},
   "outputs": [],
   "source": []
  },
  {
   "cell_type": "code",
   "execution_count": null,
   "metadata": {},
   "outputs": [],
   "source": []
  }
 ],
 "metadata": {
  "kernelspec": {
   "display_name": "Python 3",
   "language": "python",
   "name": "python3"
  },
  "language_info": {
   "codemirror_mode": {
    "name": "ipython",
    "version": 3
   },
   "file_extension": ".py",
   "mimetype": "text/x-python",
   "name": "python",
   "nbconvert_exporter": "python",
   "pygments_lexer": "ipython3",
   "version": "3.7.3"
  }
 },
 "nbformat": 4,
 "nbformat_minor": 2
}
