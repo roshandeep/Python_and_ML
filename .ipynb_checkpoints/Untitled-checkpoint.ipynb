{
 "cells": [
  {
   "cell_type": "code",
   "execution_count": 1,
   "metadata": {},
   "outputs": [],
   "source": [
    "#Load Libraries\n",
    "import numpy as np\n",
    "import pandas as pd\n",
    "import seaborn as sns\n",
    "import matplotlib.pyplot as plt\n",
    "%matplotlib inline"
   ]
  },
  {
   "cell_type": "code",
   "execution_count": 2,
   "metadata": {},
   "outputs": [
    {
     "data": {
      "text/html": [
       "<div>\n",
       "<style scoped>\n",
       "    .dataframe tbody tr th:only-of-type {\n",
       "        vertical-align: middle;\n",
       "    }\n",
       "\n",
       "    .dataframe tbody tr th {\n",
       "        vertical-align: top;\n",
       "    }\n",
       "\n",
       "    .dataframe thead th {\n",
       "        text-align: right;\n",
       "    }\n",
       "</style>\n",
       "<table border=\"1\" class=\"dataframe\">\n",
       "  <thead>\n",
       "    <tr style=\"text-align: right;\">\n",
       "      <th></th>\n",
       "      <th>KPI ID</th>\n",
       "      <th>KPI_Year</th>\n",
       "      <th>KPI_DON_Code</th>\n",
       "      <th>NSO_ZON_name</th>\n",
       "      <th>NSO_DON_name</th>\n",
       "      <th>country</th>\n",
       "      <th>KPI_DonBlood_Tot_M</th>\n",
       "      <th>KPI_DonBlood_Tot_F</th>\n",
       "      <th>KPI_DonBlood_Tot_OtherSex</th>\n",
       "      <th>KPI_DonBlood_Tot</th>\n",
       "      <th>KPI_DonBlood_ddd</th>\n",
       "    </tr>\n",
       "  </thead>\n",
       "  <tbody>\n",
       "    <tr>\n",
       "      <th>0</th>\n",
       "      <td>DAD0012012</td>\n",
       "      <td>2012</td>\n",
       "      <td>DAD001</td>\n",
       "      <td>Europe and Central Asia</td>\n",
       "      <td>Andorran Red Cross</td>\n",
       "      <td>Andorra</td>\n",
       "      <td>NaN</td>\n",
       "      <td>NaN</td>\n",
       "      <td>NaN</td>\n",
       "      <td>1000.0</td>\n",
       "      <td>NaN</td>\n",
       "    </tr>\n",
       "    <tr>\n",
       "      <th>1</th>\n",
       "      <td>DAD0012013</td>\n",
       "      <td>2013</td>\n",
       "      <td>DAD001</td>\n",
       "      <td>Europe and Central Asia</td>\n",
       "      <td>Andorran Red Cross</td>\n",
       "      <td>Andorra</td>\n",
       "      <td>NaN</td>\n",
       "      <td>NaN</td>\n",
       "      <td>NaN</td>\n",
       "      <td>1000.0</td>\n",
       "      <td>NaN</td>\n",
       "    </tr>\n",
       "    <tr>\n",
       "      <th>2</th>\n",
       "      <td>DAD0012014</td>\n",
       "      <td>2014</td>\n",
       "      <td>DAD001</td>\n",
       "      <td>Europe and Central Asia</td>\n",
       "      <td>Andorran Red Cross</td>\n",
       "      <td>Andorra</td>\n",
       "      <td>NaN</td>\n",
       "      <td>NaN</td>\n",
       "      <td>NaN</td>\n",
       "      <td>1200.0</td>\n",
       "      <td>NaN</td>\n",
       "    </tr>\n",
       "    <tr>\n",
       "      <th>3</th>\n",
       "      <td>DAD0012015</td>\n",
       "      <td>2015</td>\n",
       "      <td>DAD001</td>\n",
       "      <td>Europe and Central Asia</td>\n",
       "      <td>Andorran Red Cross</td>\n",
       "      <td>Andorra</td>\n",
       "      <td>NaN</td>\n",
       "      <td>NaN</td>\n",
       "      <td>NaN</td>\n",
       "      <td>1200.0</td>\n",
       "      <td>NaN</td>\n",
       "    </tr>\n",
       "    <tr>\n",
       "      <th>4</th>\n",
       "      <td>DAD0012016</td>\n",
       "      <td>2016</td>\n",
       "      <td>DAD001</td>\n",
       "      <td>Europe and Central Asia</td>\n",
       "      <td>Andorran Red Cross</td>\n",
       "      <td>Andorra</td>\n",
       "      <td>526.0</td>\n",
       "      <td>502.0</td>\n",
       "      <td>NaN</td>\n",
       "      <td>1028.0</td>\n",
       "      <td>NaN</td>\n",
       "    </tr>\n",
       "  </tbody>\n",
       "</table>\n",
       "</div>"
      ],
      "text/plain": [
       "       KPI ID  KPI_Year KPI_DON_Code             NSO_ZON_name  \\\n",
       "0  DAD0012012      2012       DAD001  Europe and Central Asia   \n",
       "1  DAD0012013      2013       DAD001  Europe and Central Asia   \n",
       "2  DAD0012014      2014       DAD001  Europe and Central Asia   \n",
       "3  DAD0012015      2015       DAD001  Europe and Central Asia   \n",
       "4  DAD0012016      2016       DAD001  Europe and Central Asia   \n",
       "\n",
       "         NSO_DON_name  country  KPI_DonBlood_Tot_M  KPI_DonBlood_Tot_F  \\\n",
       "0  Andorran Red Cross  Andorra                 NaN                 NaN   \n",
       "1  Andorran Red Cross  Andorra                 NaN                 NaN   \n",
       "2  Andorran Red Cross  Andorra                 NaN                 NaN   \n",
       "3  Andorran Red Cross  Andorra                 NaN                 NaN   \n",
       "4  Andorran Red Cross  Andorra               526.0               502.0   \n",
       "\n",
       "   KPI_DonBlood_Tot_OtherSex  KPI_DonBlood_Tot  KPI_DonBlood_ddd  \n",
       "0                        NaN            1000.0               NaN  \n",
       "1                        NaN            1000.0               NaN  \n",
       "2                        NaN            1200.0               NaN  \n",
       "3                        NaN            1200.0               NaN  \n",
       "4                        NaN            1028.0               NaN  "
      ]
     },
     "execution_count": 2,
     "metadata": {},
     "output_type": "execute_result"
    }
   ],
   "source": [
    "#Load Dataset\n",
    "dataset = pd.read_excel('./time_series_02042020172046.xlsx')\n",
    "dataset.head()"
   ]
  },
  {
   "cell_type": "code",
   "execution_count": 4,
   "metadata": {},
   "outputs": [
    {
     "data": {
      "text/html": [
       "\n",
       "        <iframe\n",
       "            width=\"900\"\n",
       "            height=\"350\"\n",
       "            src=\"viola.html\"\n",
       "            frameborder=\"0\"\n",
       "            allowfullscreen\n",
       "        ></iframe>\n",
       "        "
      ],
      "text/plain": [
       "<IPython.lib.display.IFrame at 0x234beb4c978>"
      ]
     },
     "metadata": {},
     "output_type": "display_data"
    }
   ],
   "source": [
    "# importing package\n",
    "import pandas_profiling as pp\n",
    "from IPython.display import IFrame\n",
    "\n",
    "# Profile Report\n",
    "dataset2 = pp.ProfileReport(dataset)\n",
    "dataset2.to_file('viola.html')\n",
    "display(IFrame('viola.html', width=900, height=350))\n",
    "\n"
   ]
  },
  {
   "cell_type": "code",
   "execution_count": null,
   "metadata": {},
   "outputs": [],
   "source": []
  }
 ],
 "metadata": {
  "kernelspec": {
   "display_name": "Python 3",
   "language": "python",
   "name": "python3"
  },
  "language_info": {
   "codemirror_mode": {
    "name": "ipython",
    "version": 3
   },
   "file_extension": ".py",
   "mimetype": "text/x-python",
   "name": "python",
   "nbconvert_exporter": "python",
   "pygments_lexer": "ipython3",
   "version": "3.7.3"
  }
 },
 "nbformat": 4,
 "nbformat_minor": 2
}
